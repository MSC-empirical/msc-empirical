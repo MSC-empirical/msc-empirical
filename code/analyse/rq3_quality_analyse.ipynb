{
 "cells": [
  {
   "cell_type": "markdown",
   "metadata": {},
   "source": [
    "#### Sample"
   ]
  },
  {
   "cell_type": "code",
   "execution_count": 1,
   "metadata": {},
   "outputs": [
    {
     "name": "stdout",
     "output_type": "stream",
     "text": [
      "model num of top10% downloads: 24686\n"
     ]
    }
   ],
   "source": [
    "import pandas as pd\n",
    "import random\n",
    "\n",
    "random.seed(42)\n",
    "df_a = pd.read_csv(r\"../../data/model_props_0625.csv\") \n",
    "df_b = pd.read_csv(r\"../../data/batch_all_0625.csv\") \n",
    "\n",
    "text_gen_df = df_a[df_a['Task'] == 'text-generation']\n",
    "\n",
    "top_10pct_count = max(1, int(len(text_gen_df) * 0.1))\n",
    "top_models_df = text_gen_df.sort_values(by='Download', ascending=False).head(top_10pct_count)\n",
    "print(f\"model num of top10% downloads: {len(top_models_df)}\")\n",
    "top_model_ids = set(top_models_df['Model ID'])\n",
    "\n",
    "filtered_b = df_b[df_b['Model ID'].isin(top_model_ids)]\n",
    "\n",
    "samples = filtered_b.sample(n=378, random_state=42)\n",
    "\n",
    "final_df = pd.merge(samples, df_a, on='Model ID', how='left')\n",
    "\n",
    "final_df.to_csv(\"top_download_models_378.csv\", index=False)"
   ]
  }
 ],
 "metadata": {
  "kernelspec": {
   "display_name": "czq",
   "language": "python",
   "name": "python3"
  },
  "language_info": {
   "codemirror_mode": {
    "name": "ipython",
    "version": 3
   },
   "file_extension": ".py",
   "mimetype": "text/x-python",
   "name": "python",
   "nbconvert_exporter": "python",
   "pygments_lexer": "ipython3",
   "version": "3.8.20"
  }
 },
 "nbformat": 4,
 "nbformat_minor": 2
}
