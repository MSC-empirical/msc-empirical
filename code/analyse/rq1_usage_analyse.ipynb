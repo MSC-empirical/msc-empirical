{
 "cells": [
  {
   "cell_type": "markdown",
   "metadata": {},
   "source": [
    "#### Get total models and Dependency Tuples"
   ]
  },
  {
   "cell_type": "code",
   "execution_count": 1,
   "metadata": {},
   "outputs": [
    {
     "name": "stdout",
     "output_type": "stream",
     "text": [
      "Total models: 1817398\n",
      "finetune: 427475 (23.52%)\n",
      "n/a: 1276560 (70.24%)\n",
      "quantized: 100564 (5.53%)\n",
      "merge: 12799 (0.70%)\n",
      "\n",
      "dependency tuples : 540838 (29.76%)\n"
     ]
    }
   ],
   "source": [
    "import csv\n",
    "from collections import Counter\n",
    "\n",
    "prefix_counts = Counter()\n",
    "\n",
    "with open('../../data/model_relation/batch_all_0625.csv', 'r', encoding='utf-8') as f:\n",
    "    reader = csv.DictReader(f)\n",
    "    for row in reader:\n",
    "        prefix = row.get('Type', 'N/A').lower() \n",
    "        if prefix == 'adapter':\n",
    "            prefix = 'finetune'\n",
    "        prefix_counts[prefix] += 1\n",
    "\n",
    "total = sum(prefix_counts.values())\n",
    "print(f\"Total models: {total}\")\n",
    "\n",
    "for prefix, count in prefix_counts.items():\n",
    "    percentage = (count / total) * 100\n",
    "    print(f\"{prefix}: {count} ({percentage:.2f}%)\")\n",
    "\n",
    "selected_types = ['finetune', 'quantized', 'merge']\n",
    "selected_total = sum(prefix_counts.get(t, 0) for t in selected_types)\n",
    "selected_percentage = (selected_total / total) * 100\n",
    "\n",
    "print(f\"\\ndependency tuples : {selected_total} ({selected_percentage:.2f}%)\")"
   ]
  },
  {
   "cell_type": "markdown",
   "metadata": {},
   "source": [
    "#### Download Statistics by Model Type"
   ]
  },
  {
   "cell_type": "code",
   "execution_count": 3,
   "metadata": {},
   "outputs": [
    {
     "name": "stdout",
     "output_type": "stream",
     "text": [
      "=== Download Statistics by Model Type ===\n",
      "Derived models: : 540,838 models, total downloads = 268,887,576, average downloads = 497.17\n",
      "Base models: : 49,648 models, total downloads = 1,412,664,976, average downloads = 28,453.61\n",
      "Isolated models: : 1,251,376 models, total downloads = 249,757,419, average downloads = 199.59\n",
      "Relational models: : 566,022 models, total downloads = 1,475,955,546, average downloads = 2,607.59\n",
      "All models: 1,817,398 models, total downloads = 1,725,712,965, average downloads = 949.55\n"
     ]
    }
   ],
   "source": [
    "import pandas as pd\n",
    "\n",
    "degree_df = pd.read_csv(\"../../data/model_degree_0625.csv\")\n",
    "props_df = pd.read_csv(\"../../data/model_props_0625.csv\")\n",
    "props_df[\"Download\"] = pd.to_numeric(props_df[\"Download\"], errors=\"coerce\").fillna(0).astype(int)\n",
    "merged_df = pd.merge(degree_df, props_df, on=\"Model ID\", how=\"left\")\n",
    "\n",
    "merged_df[\"Download\"] = merged_df[\"Download\"].fillna(0).astype(int)\n",
    "\n",
    "\n",
    "derived_models = merged_df[merged_df[\"In-degree\"] > 0]\n",
    "base_models = merged_df[merged_df[\"Out-degree\"] > 0]\n",
    "isolated_models = merged_df[(merged_df[\"In-degree\"] == 0) & (merged_df[\"Out-degree\"] == 0)]\n",
    "relational_models = merged_df[(merged_df[\"In-degree\"] > 0) | (merged_df[\"Out-degree\"] > 0)]\n",
    "total_models = merged_df\n",
    "\n",
    "def print_download_stats(name, df):\n",
    "    total_dl = df[\"Download\"].sum()\n",
    "    count = len(df)\n",
    "    avg_dl = total_dl / count if count > 0 else 0\n",
    "    print(f\"{name}: {count:,} models, total downloads = {total_dl:,}, average downloads = {avg_dl:,.2f}\")\n",
    "\n",
    "# result\n",
    "print(\"=== Download Statistics by Model Type ===\")\n",
    "print_download_stats(\"Derived models: \", derived_models)\n",
    "print_download_stats(\"Base models: \", base_models)\n",
    "print_download_stats(\"Isolated models: \", isolated_models)\n",
    "print_download_stats(\"Relational models: \", relational_models)\n",
    "print_download_stats(\"All models\", total_models)"
   ]
  },
  {
   "cell_type": "markdown",
   "metadata": {},
   "source": [
    "#### Distribution of Derived Models"
   ]
  },
  {
   "cell_type": "code",
   "execution_count": 4,
   "metadata": {},
   "outputs": [
    {
     "name": "stdout",
     "output_type": "stream",
     "text": [
      "Total models: 1817398\n",
      "derived models : 540838 (29.76%)\n",
      "finetune: 427475 (79.04%)\n",
      "n/a: 1276560 (236.03%)\n",
      "quantized: 100564 (18.59%)\n",
      "merge: 12799 (2.37%)\n"
     ]
    }
   ],
   "source": [
    "import csv\n",
    "from collections import Counter\n",
    "\n",
    "prefix_counts = Counter()\n",
    "\n",
    "with open('../../data/model_relation/batch_all_0625.csv', 'r', encoding='utf-8') as f:\n",
    "    reader = csv.DictReader(f)\n",
    "    for row in reader:\n",
    "        prefix = row.get('Type', 'N/A').lower()  \n",
    "        if prefix == 'adapter':\n",
    "            prefix = 'finetune'\n",
    "        prefix_counts[prefix] += 1\n",
    "\n",
    "total = sum(prefix_counts.values())\n",
    "print(f\"Total models: {total}\")\n",
    "\n",
    "\n",
    "selected_types = ['finetune', 'quantized', 'merge']\n",
    "selected_total = sum(prefix_counts.get(t, 0) for t in selected_types)\n",
    "selected_percentage = (selected_total / total) * 100\n",
    "\n",
    "print(f\"derived models : {selected_total} ({selected_percentage:.2f}%)\")\n",
    "\n",
    "for prefix, count in prefix_counts.items():\n",
    "    percentage = (count / selected_total) * 100\n",
    "    print(f\"{prefix}: {count} ({percentage:.2f}%)\")\n"
   ]
  },
  {
   "cell_type": "markdown",
   "metadata": {},
   "source": [
    "#### Task Distribution of M_f M_m M_q"
   ]
  },
  {
   "cell_type": "code",
   "execution_count": 5,
   "metadata": {},
   "outputs": [
    {
     "name": "stdout",
     "output_type": "stream",
     "text": [
      "Model_Category           Audio              CV    Multimodal              NLP  \\\n",
      "Dependency_Type                                                                 \n",
      "finetune         12,804 (6.8%)  63,721 (33.6%)  3,208 (1.7%)  109,591 (57.8%)   \n",
      "merge                 7 (0.1%)      551 (4.7%)    152 (1.3%)   11,092 (94.0%)   \n",
      "quantized           348 (1.0%)      687 (2.0%)  1,209 (3.5%)   31,855 (93.3%)   \n",
      "\n",
      "Model_Category  Reinforcement Learning    Tabular             Total  \n",
      "Dependency_Type                                                      \n",
      "finetune                    104 (0.1%)  23 (0.0%)  189,451 (100.0%)  \n",
      "merge                         1 (0.0%)   0 (0.0%)   11,803 (100.0%)  \n",
      "quantized                    53 (0.2%)   5 (0.0%)   34,157 (100.0%)  \n"
     ]
    }
   ],
   "source": [
    "import pandas as pd\n",
    "\n",
    "df_dep = pd.read_csv('../../data/model_relation/batch_all_0625.csv')\n",
    "df_props = pd.read_csv('../../data/model_props_0625.csv')\n",
    "\n",
    "df_dep = df_dep.rename(columns={'Model ID': 'Model_ID', 'Type': 'Dependency_Type'})\n",
    "df_props = df_props.rename(columns={'Model ID': 'Model_ID', 'Download': 'Downloads', 'Model Category': 'Model_Category'})\n",
    "\n",
    "df_dep['Dependency_Type'] = df_dep['Dependency_Type'].replace('adapter', 'finetune')\n",
    "\n",
    "df_merged = pd.merge(df_dep, df_props, on='Model_ID', how='left')\n",
    "\n",
    "df_valid = df_merged[df_merged['Dependency_Type'].notna() & (df_merged['Dependency_Type'] != 'N/A')]\n",
    "\n",
    "df_valid_cat = df_valid[df_valid['Model_Category'].notna() & (df_valid['Model_Category'].str.lower() != 'unknown')]\n",
    "cat_dist = df_valid_cat.groupby(['Dependency_Type', 'Model_Category']).size().unstack().fillna(0).astype(int)\n",
    "\n",
    "row_totals = cat_dist.sum(axis=1)\n",
    "cat_dist[\"Total\"] = row_totals\n",
    "\n",
    "cat_dist_percent = cat_dist.div(row_totals, axis=0) * 100  \n",
    "cat_dist_str = cat_dist.copy()\n",
    "\n",
    "for row in cat_dist.index:\n",
    "    for col in cat_dist.columns:\n",
    "        count = cat_dist.loc[row, col]\n",
    "        perc = cat_dist_percent.loc[row, col]\n",
    "        cat_dist_str.loc[row, col] = f\"{int(count):,} ({perc:.1f}%)\"\n",
    "\n",
    "print(cat_dist_str)"
   ]
  },
  {
   "cell_type": "markdown",
   "metadata": {},
   "source": [
    "#### Top-10 models by out-degree and in-degree"
   ]
  },
  {
   "cell_type": "code",
   "execution_count": 6,
   "metadata": {},
   "outputs": [
    {
     "name": "stdout",
     "output_type": "stream",
     "text": [
      "\n",
      "Top 10 Models by Out-degree (with Task):\n",
      "                                   Model ID  Out-degree             Task\n",
      "0                         Qwen/Qwen1.5-0.5B       32497  text-generation\n",
      "1              black-forest-labs/FLUX.1-dev       32173    text-to-image\n",
      "2                         Qwen/Qwen1.5-1.8B       30580  text-generation\n",
      "3                           google/gemma-2b       23792  text-generation\n",
      "4                           google/gemma-7b        9569  text-generation\n",
      "5        distilbert/distilbert-base-uncased        9205        fill-mask\n",
      "6  stabilityai/stable-diffusion-xl-base-1.0        8266    text-to-image\n",
      "7                           Qwen/Qwen1.5-7B        6450  text-generation\n",
      "8             google-bert/bert-base-uncased        5483        fill-mask\n",
      "9           aubmindlab/bert-base-arabertv02        3997        fill-mask\n",
      "Top 10 Models by In-degree (with Task):\n",
      "                                            Model ID  In-degree  \\\n",
      "0                   Novaciano/BAHAMUTH-PURGED-3.2-1B         65   \n",
      "1         Novaciano/BAHAMUTH-PURGED-3.2-1B-Q6_K-GGUF         65   \n",
      "2               QuantFactory/Loki-v2.6-8b-1024k-GGUF         57   \n",
      "3       PJMixers-Archive/LLaMa-3-CursedStock-v1.6-8B         52   \n",
      "4       PJMixers-Archive/LLaMa-3-CursedStock-v2.0-8B         47   \n",
      "5  QuantFactory/L3-Deluxe-Scrambled-Eggs-On-Toast...         36   \n",
      "6  Casual-Autopsy/L3-Deluxe-Scrambled-Eggs-On-Toa...         36   \n",
      "7       PJMixers-Archive/LLaMa-3-CursedStock-v1.8-8B         34   \n",
      "8                NewEden/Delta-Vector_driftwood-exl2         25   \n",
      "9                               SanXM1/Driftwood-12B         25   \n",
      "\n",
      "              Task  \n",
      "0  text-generation  \n",
      "1              NaN  \n",
      "2              NaN  \n",
      "3  text-generation  \n",
      "4  text-generation  \n",
      "5  text-generation  \n",
      "6  text-generation  \n",
      "7  text-generation  \n",
      "8              NaN  \n",
      "9  text-generation  \n"
     ]
    }
   ],
   "source": [
    "import pandas as pd\n",
    "\n",
    "df = pd.read_csv(\"../../data/model_degree_0625.csv\")\n",
    "df_props = pd.read_csv(\"../../data/model_props_0625.csv\")\n",
    "\n",
    "top_in_degree = df.sort_values(\"In-degree\", ascending=False).head(10)\n",
    "top_out_degree = df.sort_values(\"Out-degree\", ascending=False).head(10)\n",
    "\n",
    "top_in_with_task = pd.merge(top_in_degree, df_props[[\"Model ID\", \"Task\"]], on=\"Model ID\", how=\"left\")\n",
    "top_out_with_task = pd.merge(top_out_degree, df_props[[\"Model ID\", \"Task\"]], on=\"Model ID\", how=\"left\")\n",
    "\n",
    "print(\"\\nTop 10 Models by Out-degree (with Task):\")\n",
    "print(top_out_with_task[[\"Model ID\", \"Out-degree\", \"Task\"]])\n",
    "\n",
    "print(\"Top 10 Models by In-degree (with Task):\")\n",
    "print(top_in_with_task[[\"Model ID\", \"In-degree\", \"Task\"]])"
   ]
  },
  {
   "cell_type": "markdown",
   "metadata": {},
   "source": [
    "#### The num of model chains"
   ]
  },
  {
   "cell_type": "code",
   "execution_count": 7,
   "metadata": {},
   "outputs": [
    {
     "name": "stdout",
     "output_type": "stream",
     "text": [
      "The detailed info of model chains is saved to ../../data/model_depth_0625.csv\n",
      "The num of model chains is 1008871\n"
     ]
    }
   ],
   "source": [
    "import csv\n",
    "\n",
    "input_file = \"../../data/model_depth_0625.txt\"\n",
    "output_csv = \"../../data/model_depth_0625.csv\"\n",
    "\n",
    "model_depth_list = []\n",
    "total_chain_count = 0 \n",
    "\n",
    "with open(input_file, \"r\", encoding=\"utf-8\") as f:\n",
    "    lines = f.readlines()\n",
    "\n",
    "current_model = None\n",
    "current_depth = None\n",
    "\n",
    "for line in lines:\n",
    "    if line.startswith(\"Root Model:\"):\n",
    "        current_model = line.strip().split(\"Root Model:\")[1].strip()\n",
    "    elif line.startswith(\"Max Depth:\") and current_model:\n",
    "        current_depth = int(line.strip().split(\"Max Depth:\")[1].strip()) + 1\n",
    "    elif line.startswith(\"Total Chains from Root:\") and current_model and current_depth is not None:\n",
    "        chain_count = int(line.strip().split(\"Total Chains from Root:\")[1].strip())\n",
    "        total_chain_count += chain_count\n",
    "        model_depth_list.append((current_model, current_depth, chain_count))\n",
    "        current_model = None\n",
    "        current_depth = None\n",
    "\n",
    "with open(output_csv, \"w\", newline='', encoding=\"utf-8\") as f:\n",
    "    writer = csv.writer(f)\n",
    "    writer.writerow([\"model_id\", \"depth\", \"total_chains\"])\n",
    "    writer.writerows(model_depth_list)\n",
    "\n",
    "print(f\"The detailed info of model chains is saved to {output_csv}\")\n",
    "print(f\"The num of model chains is {total_chain_count}\")"
   ]
  },
  {
   "cell_type": "markdown",
   "metadata": {},
   "source": [
    "#### The distribution of the length of model chains"
   ]
  },
  {
   "cell_type": "code",
   "execution_count": 1,
   "metadata": {},
   "outputs": [
    {
     "name": "stderr",
     "output_type": "stream",
     "text": [
      "Matplotlib created a temporary cache directory at /tmp/matplotlib-_hhu3nyz because the default path (/home/dellr740/.config/matplotlib) is not a writable directory; it is highly recommended to set the MPLCONFIGDIR environment variable to a writable directory, in particular to speed up the import of Matplotlib and to better support multiprocessing.\n"
     ]
    },
    {
     "data": {
      "image/png": "[encoded data removed]",
      "text/plain": [
       "<Figure size 800x350 with 1 Axes>"
      ]
     },
     "metadata": {},
     "output_type": "display_data"
    }
   ],
   "source": [
    "import matplotlib.pyplot as plt\n",
    "from collections import Counter\n",
    "\n",
    "plt.rcParams.update({\n",
    "    \"font.family\": \"serif\",\n",
    "    \"font.serif\": [\"Times New Roman\"],\n",
    "    \"mathtext.fontset\": \"stix\",\n",
    "    \"font.size\": 12,\n",
    "    \"figure.figsize\": (8, 3.5),\n",
    "    \"lines.linewidth\": 1,\n",
    "    \"lines.markersize\": 4,\n",
    "    \"axes.linewidth\": 0.8,\n",
    "    \"axes.titlesize\": 10,\n",
    "    \"axes.labelsize\": 12,\n",
    "    \"axes.grid\": False,\n",
    "    \"xtick.labelsize\": 10,\n",
    "    \"ytick.labelsize\": 10,\n",
    "    \"xtick.direction\": \"in\",\n",
    "    \"ytick.direction\": \"in\",\n",
    "    \"xtick.top\": False,\n",
    "    \"ytick.right\": False,\n",
    "    \"legend.fontsize\": 12,\n",
    "    \"legend.frameon\": False,\n",
    "    \"savefig.dpi\": 3600,\n",
    "    \"savefig.bbox\": \"tight\"\n",
    "})\n",
    "\n",
    "file_path = \"../../data/model_chain_lengths_0625.txt\"\n",
    "with open(file_path, \"r\", encoding=\"utf-8\") as f:\n",
    "    lengths = [int(line.strip()) for line in f if line.strip().isdigit()]\n",
    "\n",
    "length_counts = Counter(lengths)\n",
    "\n",
    "merged_counts = {}\n",
    "\n",
    "for length, count in length_counts.items():\n",
    "    if 2 <= length <= 22:\n",
    "        merged_counts[str(length)] = count\n",
    "    elif 23 <= length <= 39:\n",
    "        merged_counts[\"23–39\"] = merged_counts.get(\"23–39\", 0) + count\n",
    "    elif length == 40:\n",
    "        merged_counts[\"40\"] = count\n",
    "\n",
    "labels = list(range(2, 23)) + [\"23–39\", \"40\"]\n",
    "labels = [str(l) for l in labels]\n",
    "frequencies = [merged_counts[l] for l in labels]\n",
    "\n",
    "spacing = 2\n",
    "x_positions = [i * spacing for i in range(len(labels))]\n",
    "\n",
    "plt.figure()\n",
    "bar_width = 0.8\n",
    "bars = plt.bar(x_positions, frequencies, width=bar_width, color='#4C72B0')\n",
    "\n",
    "for x, y in zip(x_positions, frequencies):\n",
    "    plt.text(x, y + 10, str(y), ha='center', va='bottom', fontsize=7)\n",
    "\n",
    "plt.xticks(ticks=x_positions, labels=labels)\n",
    "\n",
    "plt.xlabel(\"The Length of Model Chains\")\n",
    "plt.ylabel(\"The Number of Model Chains\")\n",
    "plt.tight_layout()\n",
    "\n",
    "plt.savefig(\"chain_length_distribution.png\")"
   ]
  },
  {
   "cell_type": "markdown",
   "metadata": {},
   "source": [
    "#### The dominant relation of model chains"
   ]
  },
  {
   "cell_type": "code",
   "execution_count": 1,
   "metadata": {},
   "outputs": [
    {
     "name": "stdout",
     "output_type": "stream",
     "text": [
      "Total chains: 1008871\n",
      "\n",
      "\n",
      "finetune: 458412 chains (45.44%)\n",
      "\n",
      "merge: 489079 chains (48.48%)\n",
      "\n",
      "quantized: 61380 chains (6.08%)\n",
      "\n",
      "N/A: 0 chains (0.0%)\n",
      "\n"
     ]
    }
   ],
   "source": [
    "import csv\n",
    "from collections import Counter\n",
    "import os\n",
    "\n",
    "chain_file = \"../../data/model_chains_0625.txt\"\n",
    "type_file = \"../../data/batch_all_0625.csv\"\n",
    "output_chain_type = \"../../output/chain_type_ratio.csv\"\n",
    "output_dominant_summary = \"../../output/chain_dominant_summary.txt\"\n",
    "\n",
    "os.makedirs(os.path.dirname(output_chain_type), exist_ok=True)\n",
    "os.makedirs(os.path.dirname(output_dominant_summary), exist_ok=True)\n",
    "\n",
    "model_type_dict = {}\n",
    "with open(type_file, \"r\", encoding=\"utf-8\") as f:\n",
    "    reader = csv.DictReader(f)\n",
    "    for row in reader:\n",
    "        model_id = row[\"Model ID\"].strip()\n",
    "        if not model_id:\n",
    "            continue\n",
    "        model_type = row[\"Type\"].strip().lower()\n",
    "        if model_type == \"adapter\":\n",
    "            model_type = \"finetune\"\n",
    "        model_type_dict[model_id] = model_type if model_type in {\"finetune\", \"merge\", \"quantized\"} else \"N/A\"\n",
    "\n",
    "chain_stats = []\n",
    "dominant_counter = Counter()\n",
    "\n",
    "with open(chain_file, \"r\", encoding=\"utf-8\") as f:\n",
    "    for line_num, line in enumerate(f, start=1):\n",
    "        if \"->\" not in line:\n",
    "            continue\n",
    "        try:\n",
    "            models = [x.strip() for x in line.strip().split(\"->\")]\n",
    "            root = models[0]\n",
    "            sub_models = models[1:] \n",
    "            type_counts = Counter()\n",
    "\n",
    "            for m in sub_models:\n",
    "                t = model_type_dict.get(m, \"N/A\")\n",
    "                type_counts[t] += 1\n",
    "\n",
    "            total = len(sub_models)\n",
    "            ft = type_counts[\"finetune\"]\n",
    "            mg = type_counts[\"merge\"]\n",
    "            qt = type_counts[\"quantized\"]\n",
    "            na = type_counts[\"N/A\"]\n",
    "\n",
    "            ft_r = round(ft / total, 4) if total else 0\n",
    "            mg_r = round(mg / total, 4) if total else 0\n",
    "            qt_r = round(qt / total, 4) if total else 0\n",
    "            na_r = round(na / total, 4) if total else 0\n",
    "\n",
    "            dominant_types = [k for k, v in type_counts.items() if v == max(type_counts.values())]\n",
    "            dominant = dominant_types[0] if dominant_types else \"N/A\"\n",
    "            dominant_counter[dominant] += 1\n",
    "\n",
    "            chain_stats.append([root, total, ft, mg, qt, na, ft_r, mg_r, qt_r, na_r, dominant])\n",
    "\n",
    "        except Exception as e:\n",
    "            print(f\"[Line {line_num}] failed: {line.strip()}, error: {e}\")\n",
    "\n",
    "with open(output_chain_type, \"w\", encoding=\"utf-8\", newline='') as f:\n",
    "    writer = csv.writer(f)\n",
    "    writer.writerow([\"Root Model\", \"Total\", \"finetune\", \"merge\", \"quantized\", \"N/A\",\n",
    "                     \"finetune_ratio\", \"merge_ratio\", \"quantized_ratio\", \"N/A_ratio\", \"Dominant Type\"])\n",
    "    for row in chain_stats:\n",
    "        writer.writerow(row)\n",
    "\n",
    "with open(output_dominant_summary, \"w\", encoding=\"utf-8\") as f:\n",
    "    total_chains = sum(dominant_counter.values())\n",
    "    print(f\"Total chains: {total_chains}\\n\\n\")\n",
    "    for t in [\"finetune\", \"merge\", \"quantized\", \"N/A\"]:\n",
    "        count = dominant_counter[t]\n",
    "        percent = round(100 * count / total_chains, 2)\n",
    "        f.write(f\"{t}: {count} chains ({percent}%)\\n\")\n",
    "        print(f\"{t}: {count} chains ({percent}%)\\n\")"
   ]
  },
  {
   "cell_type": "markdown",
   "metadata": {},
   "source": [
    "#### The diversity of model chains"
   ]
  },
  {
   "cell_type": "code",
   "execution_count": 8,
   "metadata": {},
   "outputs": [
    {
     "name": "stdout",
     "output_type": "stream",
     "text": [
      "Total Chains: 1008871\n",
      "Single-dependency chains : 462822 (45.88%)\n",
      "Double-dependency chains : 263164 (26.08%)\n",
      "Triple-dependency chains : 282885 (28.04%)\n"
     ]
    }
   ],
   "source": [
    "import csv\n",
    "\n",
    "input_file = \"../../output/chain_type_ratio.csv\"\n",
    "\n",
    "single_dep = 0\n",
    "double_dep = 0\n",
    "triple_dep = 0\n",
    "total_chains = 0\n",
    "\n",
    "with open(input_file, \"r\", encoding=\"utf-8\") as f:\n",
    "    reader = csv.DictReader(f)\n",
    "    for row in reader:\n",
    "        ft = int(row[\"finetune\"])\n",
    "        mg = int(row[\"merge\"])\n",
    "        qt = int(row.get(\"quantize\", row.get(\"quantized\", 0))) \n",
    "\n",
    "        type_count = sum(1 for x in [ft, mg, qt] if int(x) > 0)\n",
    "        total_chains += 1\n",
    "\n",
    "        if type_count == 1:\n",
    "            single_dep += 1\n",
    "        elif type_count == 2:\n",
    "            double_dep += 1\n",
    "        elif type_count == 3:\n",
    "            triple_dep += 1\n",
    "\n",
    "print(f\"Total Chains: {total_chains}\")\n",
    "print(f\"Single-dependency chains : {single_dep} ({round(single_dep / total_chains * 100, 2)}%)\")\n",
    "print(f\"Double-dependency chains : {double_dep} ({round(double_dep / total_chains * 100, 2)}%)\")\n",
    "print(f\"Triple-dependency chains : {triple_dep} ({round(triple_dep / total_chains * 100, 2)}%)\")"
   ]
  },
  {
   "cell_type": "markdown",
   "metadata": {},
   "source": [
    "#### The relation in top-10 chains"
   ]
  },
  {
   "cell_type": "code",
   "execution_count": 29,
   "metadata": {},
   "outputs": [
    {
     "name": "stdout",
     "output_type": "stream",
     "text": [
      "Total chains: 10\n",
      "\n",
      "\n",
      "finetune: 6 chains (60.0%)\n",
      "\n",
      "merge: 4 chains (40.0%)\n",
      "\n",
      "quantized: 0 chains (0.0%)\n",
      "\n",
      "N/A: 0 chains (0.0%)\n",
      "\n"
     ]
    }
   ],
   "source": [
    "import csv\n",
    "from collections import Counter\n",
    "import os\n",
    "\n",
    "chain_file = \"../../data/models_top_chains_0625.txt\"\n",
    "type_file = \"../../data/batch_all_0625.csv\"\n",
    "output_chain_type = \"../../output/chain_type_ratio_top.csv\"\n",
    "output_dominant_summary = \"../../output/chain_dominant_summary_top.txt\"\n",
    "\n",
    "os.makedirs(os.path.dirname(output_chain_type), exist_ok=True)\n",
    "os.makedirs(os.path.dirname(output_dominant_summary), exist_ok=True)\n",
    "\n",
    "model_type_dict = {}\n",
    "with open(type_file, \"r\", encoding=\"utf-8\") as f:\n",
    "    reader = csv.DictReader(f)\n",
    "    for row in reader:\n",
    "        model_id = row[\"Model ID\"].strip()\n",
    "        if not model_id:\n",
    "            continue\n",
    "        model_type = row[\"Type\"].strip().lower()\n",
    "        if model_type == \"adapter\":\n",
    "            model_type = \"finetune\"\n",
    "        model_type_dict[model_id] = model_type if model_type in {\"finetune\", \"merge\", \"quantized\"} else \"N/A\"\n",
    "\n",
    "chain_stats = []\n",
    "dominant_counter = Counter()\n",
    "\n",
    "with open(chain_file, \"r\", encoding=\"utf-8\") as f:\n",
    "    for line_num, line in enumerate(f, start=1):\n",
    "        if \"->\" not in line:\n",
    "            continue\n",
    "        try:\n",
    "            models = [x.strip() for x in line.strip().split(\"->\")]\n",
    "            root = models[0]\n",
    "            sub_models = models[1:] \n",
    "            type_counts = Counter()\n",
    "\n",
    "            for m in sub_models:\n",
    "                t = model_type_dict.get(m, \"N/A\")\n",
    "                type_counts[t] += 1\n",
    "\n",
    "            total = len(sub_models)\n",
    "            ft = type_counts[\"finetune\"]\n",
    "            mg = type_counts[\"merge\"]\n",
    "            qt = type_counts[\"quantized\"]\n",
    "            na = type_counts[\"N/A\"]\n",
    "\n",
    "            ft_r = round(ft / total, 4) if total else 0\n",
    "            mg_r = round(mg / total, 4) if total else 0\n",
    "            qt_r = round(qt / total, 4) if total else 0\n",
    "            na_r = round(na / total, 4) if total else 0\n",
    "\n",
    "            dominant_types = [k for k, v in type_counts.items() if v == max(type_counts.values())]\n",
    "            dominant = dominant_types[0] if dominant_types else \"N/A\"\n",
    "            dominant_counter[dominant] += 1\n",
    "\n",
    "            chain_stats.append([root, total, ft, mg, qt, na, ft_r, mg_r, qt_r, na_r, dominant])\n",
    "\n",
    "        except Exception as e:\n",
    "            print(f\"[Line {line_num}] failed : {line.strip()},error: {e}\")\n",
    "\n",
    "with open(output_chain_type, \"w\", encoding=\"utf-8\", newline='') as f:\n",
    "    writer = csv.writer(f)\n",
    "    writer.writerow([\"Root Model\", \"Total\", \"finetune\", \"merge\", \"quantized\", \"N/A\",\n",
    "                     \"finetune_ratio\", \"merge_ratio\", \"quantized_ratio\", \"N/A_ratio\", \"Dominant Type\"])\n",
    "    for row in chain_stats:\n",
    "        writer.writerow(row)\n",
    "\n",
    "with open(output_dominant_summary, \"w\", encoding=\"utf-8\") as f:\n",
    "    total_chains = sum(dominant_counter.values())\n",
    "    f.write(f\"Total chains: {total_chains}\\n\\n\")\n",
    "    print(f\"Total chains: {total_chains}\\n\\n\")\n",
    "    for t in [\"finetune\", \"merge\", \"quantized\", \"N/A\"]:\n",
    "        count = dominant_counter[t]\n",
    "        percent = round(100 * count / total_chains, 2)\n",
    "        f.write(f\"{t}: {count} chains ({percent}%)\\n\")\n",
    "        print(f\"{t}: {count} chains ({percent}%)\\n\")\n"
   ]
  },
  {
   "cell_type": "markdown",
   "metadata": {},
   "source": [
    "#### The task of models in top-10 chains"
   ]
  },
  {
   "cell_type": "code",
   "execution_count": 1,
   "metadata": {},
   "outputs": [
    {
     "name": "stdout",
     "output_type": "stream",
     "text": [
      "Model Category Distribution:\n",
      "NLP: 205 models\n",
      "Unknown: 5 models\n"
     ]
    }
   ],
   "source": [
    "import pandas as pd\n",
    "\n",
    "chain_file = \"../../data/models_top_chains_0625.txt\"\n",
    "props_file = \"../../data/model_props_0625.csv\"\n",
    "\n",
    "df_props = pd.read_csv(props_file)\n",
    "model_to_category = dict(zip(df_props[\"Model ID\"], df_props[\"Model Category\"]))\n",
    "\n",
    "all_models = set()\n",
    "\n",
    "with open(chain_file, \"r\", encoding=\"utf-8\") as f:\n",
    "    for line in f:\n",
    "        models = [m.strip() for m in line.strip().split(\"->\")]\n",
    "        all_models.update(models)\n",
    "\n",
    "from collections import Counter\n",
    "\n",
    "category_counter = Counter()\n",
    "\n",
    "for model in all_models:\n",
    "    category = model_to_category.get(model)\n",
    "    if pd.isna(category):\n",
    "        category = \"Unknown\"\n",
    "    category_counter[category] += 1\n",
    "\n",
    "print(\"Model Category Distribution:\")\n",
    "for category, count in category_counter.most_common():\n",
    "    print(f\"{category}: {count} models\")"
   ]
  },
  {
   "cell_type": "markdown",
   "metadata": {},
   "source": [
    "#### The num of model clusters"
   ]
  },
  {
   "cell_type": "code",
   "execution_count": 10,
   "metadata": {},
   "outputs": [
    {
     "name": "stdout",
     "output_type": "stream",
     "text": [
      "total models: 1817398\n",
      "clusters: 25184\n"
     ]
    }
   ],
   "source": [
    "import pandas as pd\n",
    "\n",
    "df = pd.read_csv(\"../../data/model_degree_0625.csv\")\n",
    "\n",
    "total_models = len(df)\n",
    "\n",
    "root_nodes = df[(df[\"In-degree\"] == 0) & (df[\"Out-degree\"] > 0)]\n",
    "num_root_nodes = len(root_nodes)\n",
    "\n",
    "print(f\"total models: {total_models}\")\n",
    "print(f\"clusters: {num_root_nodes}\")"
   ]
  },
  {
   "cell_type": "markdown",
   "metadata": {},
   "source": [
    "#### The size of each clusters"
   ]
  },
  {
   "cell_type": "code",
   "execution_count": 12,
   "metadata": {},
   "outputs": [
    {
     "name": "stdout",
     "output_type": "stream",
     "text": [
      "Average cluster size: 28.95\n"
     ]
    }
   ],
   "source": [
    "import pandas as pd\n",
    "\n",
    "degree_df = pd.read_csv(\"../../data/model_degree_0625.csv\")\n",
    "root_models = degree_df[(degree_df[\"In-degree\"] == 0) & (degree_df[\"Out-degree\"] > 0)][\"Model ID\"].str.strip()\n",
    "\n",
    "dis_df = pd.read_csv(\"../../data/model_dis_0625.csv\")\n",
    "dis_df['Model Name'] = dis_df['Model Name'].str.strip()\n",
    "\n",
    "root_dis_df = dis_df[dis_df['Model Name'].isin(root_models)]\n",
    "\n",
    "root_dis_df_sorted = root_dis_df.sort_values(by='DIS', ascending=False)\n",
    "\n",
    "output_file = \"../../data/root_models_dis_distribution_0625.csv\"\n",
    "root_dis_df_sorted.to_csv(output_file, index=False)\n",
    "\n",
    "avg_dis = root_dis_df_sorted[\"DIS\"].mean()\n",
    "print(f\"Average cluster size: {avg_dis:.2f}\")"
   ]
  },
  {
   "cell_type": "markdown",
   "metadata": {},
   "source": [
    "#### The distribution of model cluster size"
   ]
  },
  {
   "cell_type": "code",
   "execution_count": 2,
   "metadata": {},
   "outputs": [
    {
     "data": {
      "image/png": "[encoded data removed]",
      "text/plain": [
       "<Figure size 700x350 with 1 Axes>"
      ]
     },
     "metadata": {},
     "output_type": "display_data"
    }
   ],
   "source": [
    "import pandas as pd\n",
    "import matplotlib.pyplot as plt\n",
    "\n",
    "plt.rcParams.update({\n",
    "    \"font.family\": \"serif\",\n",
    "    \"font.serif\": [\"Times New Roman\"],\n",
    "    \"mathtext.fontset\": \"stix\",\n",
    "    \"font.size\": 12,\n",
    "    \"figure.figsize\": (7, 3.5),\n",
    "    \"lines.linewidth\": 1,\n",
    "    \"lines.markersize\": 4,\n",
    "    \"axes.linewidth\": 0.8,\n",
    "    \"axes.titlesize\": 10,\n",
    "    \"axes.labelsize\": 12,\n",
    "    \"axes.grid\": False,\n",
    "    \"xtick.labelsize\": 8,\n",
    "    \"ytick.labelsize\": 8,\n",
    "    \"xtick.direction\": \"in\",\n",
    "    \"ytick.direction\": \"in\",\n",
    "    \"xtick.top\": False,\n",
    "    \"ytick.right\": False,\n",
    "    \"legend.fontsize\": 12,\n",
    "    \"legend.frameon\": False,\n",
    "    \"savefig.dpi\": 3600,\n",
    "    \"savefig.bbox\": \"tight\"\n",
    "})\n",
    "\n",
    "dis_file = \"../../data/root_models_dis_distribution_0625.csv\"\n",
    "df = pd.read_csv(dis_file)\n",
    "dis_values = (df[\"DIS\"] + 1).astype(int)\n",
    "\n",
    "bins = [1, 2, 3, 4,5, 10, 20, 50, 200, 500, 1000, 5000, 10000, float('inf')]\n",
    "labels = [\n",
    "     \"2\", \"3\", \"4\",\"5\", \"6–10\", \"11–20\", \"21–50\",\n",
    "    \"51–200\", \"201–1000\", \"501–1000\",\n",
    "    \"1001–5000\", \"5001–10000\", \"10000+\"\n",
    "]\n",
    "bin_categories = pd.cut(dis_values, bins=bins, labels=labels, right=True, include_lowest=True)\n",
    "\n",
    "bin_counts = bin_categories.value_counts().sort_index()\n",
    "\n",
    "x_labels = bin_counts.index.tolist()\n",
    "frequencies = bin_counts.values.tolist()\n",
    "x_positions = [i * 1.5 for i in range(len(x_labels))] \n",
    "\n",
    "plt.figure()\n",
    "bars = plt.bar(x_positions, frequencies, width=1, color='#4C72B0')\n",
    "\n",
    "for x, y in zip(x_positions, frequencies):\n",
    "    plt.text(x, y + 10, str(y), ha='center', va='bottom', fontsize=8)\n",
    "\n",
    "plt.xticks(ticks=x_positions, labels=x_labels, rotation=30)\n",
    "\n",
    "plt.xlabel(\"The Size of Model Clusters\")\n",
    "plt.ylabel(\"The Number of Model Clusters\")\n",
    "plt.tight_layout()\n",
    "\n",
    "plt.savefig(\"cluster_size_distribution.pdf\")"
   ]
  },
  {
   "cell_type": "markdown",
   "metadata": {},
   "source": [
    "#### The distribution of chains num of clusters"
   ]
  },
  {
   "cell_type": "code",
   "execution_count": 13,
   "metadata": {},
   "outputs": [
    {
     "name": "stderr",
     "output_type": "stream",
     "text": [
      "Matplotlib created a temporary cache directory at /tmp/matplotlib-ev1fmgnq because the default path (/home/dellr740/.config/matplotlib) is not a writable directory; it is highly recommended to set the MPLCONFIGDIR environment variable to a writable directory, in particular to speed up the import of Matplotlib and to better support multiprocessing.\n"
     ]
    },
    {
     "name": "stdout",
     "output_type": "stream",
     "text": [
      "Mean total_chains: 40.06\n"
     ]
    },
    {
     "data": {
      "image/png": "[encoded data removed]",
      "text/plain": [
       "<Figure size 700x350 with 1 Axes>"
      ]
     },
     "metadata": {},
     "output_type": "display_data"
    }
   ],
   "source": [
    "import pandas as pd\n",
    "import matplotlib.pyplot as plt\n",
    "\n",
    "plt.rcParams.update({\n",
    "    \"font.family\": \"serif\",\n",
    "    \"font.serif\": [\"Times New Roman\"],\n",
    "    \"mathtext.fontset\": \"stix\",\n",
    "    \"font.size\": 12,\n",
    "    \"figure.figsize\": (7, 3.5),\n",
    "    \"axes.linewidth\": 0.8,\n",
    "    \"axes.labelsize\": 12,\n",
    "    \"xtick.labelsize\": 8,\n",
    "    \"ytick.labelsize\": 8,\n",
    "    \"xtick.direction\": \"in\",\n",
    "    \"ytick.direction\": \"in\",\n",
    "    \"xtick.top\": False,\n",
    "    \"ytick.right\": True,\n",
    "    \"legend.fontsize\": 12,\n",
    "    \"legend.frameon\": False,\n",
    "    \"savefig.dpi\": 3600,\n",
    "    \"savefig.bbox\": \"tight\"\n",
    "})\n",
    "\n",
    "degree_df = pd.read_csv(\"../../data/model_degree_0625.csv\")\n",
    "root_models = degree_df[(degree_df[\"In-degree\"] == 0) & (degree_df[\"Out-degree\"] > 0)][\"Model ID\"].str.strip()\n",
    "\n",
    "depth_df = pd.read_csv(\"../../data/model_depth_0625.csv\")\n",
    "depth_df[\"model_id\"] = depth_df[\"model_id\"].str.strip()\n",
    "\n",
    "root_depth_df = depth_df[depth_df[\"model_id\"].isin(root_models)]\n",
    "\n",
    "bins = [0, 1,2,3,4,6, 11, 21, 51, 101, 201, 501, 1001, float('inf')]\n",
    "labels = [\"1\",\"2\",\"3\",\"4\", \"5\", \"6–10\", \"11–20\", \"21–50\", \"51–100\", \"101–200\", \"201–500\", \"501–1000\", \"1000+\"]\n",
    "binned = pd.cut(root_depth_df[\"total_chains\"], bins=bins, labels=labels, include_lowest=True)\n",
    "bin_counts = binned.value_counts().sort_index()\n",
    "\n",
    "x_labels = bin_counts.index.tolist()\n",
    "frequencies = bin_counts.values.tolist()\n",
    "x_positions = [i * 1.5 for i in range(len(x_labels))]\n",
    "\n",
    "plt.figure()\n",
    "bars = plt.bar(x_positions, frequencies, width=1, color='#4C72B0',)\n",
    "\n",
    "for x, y in zip(x_positions, frequencies):\n",
    "    plt.text(x, y + 1, str(y), ha='center', va='bottom', fontsize=8)\n",
    "\n",
    "plt.xticks(ticks=x_positions, labels=x_labels, rotation=30)\n",
    "plt.xlabel(\"The Number of Chains In its Cluster\")\n",
    "plt.ylabel(\"The Number of Clusters\")\n",
    "plt.tight_layout()\n",
    "\n",
    "plt.savefig(\"total_chains_distribution.png\")\n",
    "\n",
    "mean_total_chains = root_depth_df[\"total_chains\"].mean()\n",
    "print(f\"Mean total_chains: {mean_total_chains:.2f}\")"
   ]
  },
  {
   "cell_type": "markdown",
   "metadata": {},
   "source": [
    "#### The dominant relation of model clusters"
   ]
  },
  {
   "cell_type": "code",
   "execution_count": 5,
   "metadata": {},
   "outputs": [
    {
     "name": "stdout",
     "output_type": "stream",
     "text": [
      "25184\n",
      "Dominant Type Statistics:\n",
      "finetune: 7199 clusters (28.59%)\n",
      "merge: 831 clusters (3.30%)\n",
      "quantized: 17154 clusters (68.11%)\n",
      "\n",
      "Cluster Type Diversity Statistics:\n",
      "Single-type clusters: 20639\n",
      "Double-type clusters: 3371\n",
      "Triple-type clusters: 1174\n",
      "\n",
      "Dominant types in double-type clusters:\n",
      "finetune: 1377 clusters (40.85%)\n",
      "merge: 270 clusters (8.01%)\n",
      "quantized: 1724 clusters (51.14%)\n",
      "\n",
      "Dominant types in triple-type clusters:\n",
      "finetune: 266 clusters (22.66%)\n",
      "merge: 112 clusters (9.54%)\n",
      "quantized: 796 clusters (67.80%)\n"
     ]
    }
   ],
   "source": [
    "import pandas as pd\n",
    "import pickle\n",
    "from collections import Counter\n",
    "\n",
    "degree_df = pd.read_csv(\"../../data/model_degree_0625.csv\")\n",
    "root_models = set(degree_df[(degree_df[\"In-degree\"] == 0) & (degree_df[\"Out-degree\"] > 0)][\"Model ID\"].str.strip())\n",
    "\n",
    "with open(\"../../data/model_clusters_0625.pkl\", \"rb\") as f:\n",
    "    cluster_dict = pickle.load(f)\n",
    "\n",
    "filtered_cluster_dict = {root: models for root, models in cluster_dict.items() if root in root_models}\n",
    "print(len(filtered_cluster_dict))\n",
    "\n",
    "type_df = pd.read_csv(\"../../data/batch_all_0625.csv\")\n",
    "type_df[\"model_id\"] = type_df[\"Model ID\"].str.strip()\n",
    "type_df[\"type\"] = type_df[\"Type\"].str.strip()\n",
    "\n",
    "model2type = dict(zip(type_df[\"model_id\"], type_df[\"type\"].replace({\"adapter\": \"finetune\"})))\n",
    "\n",
    "results = []\n",
    "dominant_counter = Counter()\n",
    "\n",
    "for root, models in filtered_cluster_dict.items():\n",
    "    type_counter = Counter()\n",
    "    total = 0\n",
    "\n",
    "    for m in models:\n",
    "        t = model2type.get(m)\n",
    "        if t in {\"finetune\", \"merge\", \"quantized\"}:\n",
    "            type_counter[t] += 1\n",
    "            total += 1\n",
    "\n",
    "    if total == 0:\n",
    "        continue \n",
    "\n",
    "    finetune_pct = type_counter[\"finetune\"] / total\n",
    "    merge_pct = type_counter[\"merge\"] / total\n",
    "    quantize_pct = type_counter[\"quantized\"] / total\n",
    "\n",
    "    dominant_type = type_counter.most_common(1)[0][0]\n",
    "    dominant_counter[dominant_type] += 1\n",
    "\n",
    "    results.append({\n",
    "        \"Root Model\": root,\n",
    "        \"Cluster Size\": len(models),\n",
    "        \"Typed Models\": total,\n",
    "        \"Finetune Count\": type_counter[\"finetune\"],\n",
    "        \"Merge Count\": type_counter[\"merge\"],\n",
    "        \"Quantize Count\": type_counter[\"quantized\"],\n",
    "        \"Finetune %\": f\"{finetune_pct:.2%}\",\n",
    "        \"Merge %\": f\"{merge_pct:.2%}\",\n",
    "        \"Quantize %\": f\"{quantize_pct:.2%}\",\n",
    "        \"Dominant Type\": dominant_type\n",
    "    })\n",
    "\n",
    "output_df = pd.DataFrame(results)\n",
    "output_df.to_csv(\"../../data/cluster_type_distribution_0625.csv\", index=False)\n",
    "\n",
    "total_clusters = sum(dominant_counter.values())\n",
    "print(\"Dominant Type Statistics:\")\n",
    "for t in [\"finetune\", \"merge\", \"quantized\"]:\n",
    "    count = dominant_counter[t]\n",
    "    pct = count / total_clusters if total_clusters else 0\n",
    "    print(f\"{t}: {count} clusters ({pct:.2%})\")\n",
    "\n",
    "single_type = 0\n",
    "double_type = 0\n",
    "triple_type = 0\n",
    "\n",
    "double_type_dominant_counter = Counter()\n",
    "triple_type_dominant_counter = Counter()\n",
    "\n",
    "for r in results:\n",
    "    types_present = sum([\n",
    "        r[\"Finetune Count\"] > 0,\n",
    "        r[\"Merge Count\"] > 0,\n",
    "        r[\"Quantize Count\"] > 0\n",
    "    ])\n",
    "\n",
    "    if types_present == 1:\n",
    "        single_type += 1\n",
    "    elif types_present == 2:\n",
    "        double_type += 1\n",
    "        double_type_dominant_counter[r[\"Dominant Type\"]] += 1\n",
    "    elif types_present == 3:\n",
    "        triple_type += 1\n",
    "        triple_type_dominant_counter[r[\"Dominant Type\"]] += 1\n",
    "\n",
    "print(\"\\nCluster Type Diversity Statistics:\")\n",
    "print(f\"Single-type clusters: {single_type}\")\n",
    "print(f\"Double-type clusters: {double_type}\")\n",
    "print(f\"Triple-type clusters: {triple_type}\")\n",
    "\n",
    "print(\"\\nDominant types in double-type clusters:\")\n",
    "for t in [\"finetune\", \"merge\", \"quantized\"]:\n",
    "    count = double_type_dominant_counter[t]\n",
    "    pct = count / double_type if double_type else 0\n",
    "    print(f\"{t}: {count} clusters ({pct:.2%})\")\n",
    "\n",
    "print(\"\\nDominant types in triple-type clusters:\")\n",
    "for t in [\"finetune\", \"merge\", \"quantized\"]:\n",
    "    count = triple_type_dominant_counter[t]\n",
    "    pct = count / triple_type if triple_type else 0\n",
    "    print(f\"{t}: {count} clusters ({pct:.2%})\")"
   ]
  }
 ],
 "metadata": {
  "kernelspec": {
   "display_name": "czq",
   "language": "python",
   "name": "python3"
  },
  "language_info": {
   "codemirror_mode": {
    "name": "ipython",
    "version": 3
   },
   "file_extension": ".py",
   "mimetype": "text/x-python",
   "name": "python",
   "nbconvert_exporter": "python",
   "pygments_lexer": "ipython3",
   "version": "3.8.20"
  }
 },
 "nbformat": 4,
 "nbformat_minor": 2
}
